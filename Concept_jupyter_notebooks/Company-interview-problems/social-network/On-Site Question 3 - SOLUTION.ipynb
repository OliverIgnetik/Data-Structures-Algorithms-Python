{
 "cells": [
  {
   "cell_type": "markdown",
   "metadata": {},
   "source": [
    "## Solution\n",
    "\n",
    "We can actually solve this problem by using a [*counting sort*](https://en.wikipedia.org/wiki/Counting_sort). Basically a counting sort works well when you know the range of integer values you will have ahead of time.\n",
    "\n",
    "Read the wikipedia article linked above for a full break down, and an implementation is here below (using the prices situation described in the problem above)."
   ]
  },
  {
   "cell_type": "code",
   "execution_count": 16,
   "metadata": {},
   "outputs": [],
   "source": [
    "def solution(unsorted_prices,max_price):\n",
    "    \n",
    "    # list of 0s at indices 0 to max_price\n",
    "    prices_to_counts = [0]* (max_price+1)\n",
    "    \n",
    "    # populate prices\n",
    "    for price in unsorted_prices:\n",
    "        prices_to_counts[price] +=1\n",
    "        \n",
    "    # populate final sorted prices\n",
    "    sorted_prices = []\n",
    "#     print(prices_to_counts)\n",
    "    # For each price in prices_to_counts\n",
    "    for price,count in enumerate(prices_to_counts):\n",
    "        # for the number of times the element occurs\n",
    "        for _ in range(count):\n",
    "            # add it to the sorted price list\n",
    "            sorted_prices.append(price)\n",
    "            \n",
    "    return sorted_prices"
   ]
  },
  {
   "cell_type": "code",
   "execution_count": 17,
   "metadata": {
    "collapsed": false,
    "jupyter": {
     "outputs_hidden": false
    }
   },
   "outputs": [
    {
     "data": {
      "text/plain": [
       "[2, 2, 2, 2, 3, 7, 9]"
      ]
     },
     "execution_count": 17,
     "metadata": {},
     "output_type": "execute_result"
    }
   ],
   "source": [
    "solution([2,2,2,7,3,2,9],10)"
   ]
  }
 ],
 "metadata": {
  "kernelspec": {
   "display_name": "Python 3",
   "language": "python",
   "name": "python3"
  },
  "language_info": {
   "codemirror_mode": {
    "name": "ipython",
    "version": 3
   },
   "file_extension": ".py",
   "mimetype": "text/x-python",
   "name": "python",
   "nbconvert_exporter": "python",
   "pygments_lexer": "ipython3",
   "version": "3.7.7"
  }
 },
 "nbformat": 4,
 "nbformat_minor": 4
}
