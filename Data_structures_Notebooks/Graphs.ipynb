{
 "cells": [
  {
   "cell_type": "markdown",
   "metadata": {},
   "source": [
    "# Graphs"
   ]
  },
  {
   "cell_type": "code",
   "execution_count": 1,
   "metadata": {},
   "outputs": [],
   "source": [
    "from pathlib import Path"
   ]
  },
  {
   "cell_type": "code",
   "execution_count": 2,
   "metadata": {},
   "outputs": [
    {
     "data": {
      "text/plain": [
       "WindowsPath('/Users/olli/Desktop/PythonNotebooks/pics')"
      ]
     },
     "execution_count": 2,
     "metadata": {},
     "output_type": "execute_result"
    }
   ],
   "source": [
    "p = Path('/Users/olli/Desktop/PythonNotebooks')\n",
    "sub_dir = 'pics'\n",
    "pics = p/sub_dir\n",
    "pics"
   ]
  },
  {
   "cell_type": "markdown",
   "metadata": {},
   "source": [
    "### Overview \n",
    "* Graphs are a more general structure then trees\n",
    "* Nodes/ vertex can have a key and a payload \n",
    "* Edges may be one-way or two-way \n",
    "* Edges may be weighted representing the cost to go from one node to another\n",
    "* A graph with no cycles is an acyclic graph \n",
    "\n",
    "$G = (V,E)$\n",
    "\n",
    "Where V is a set of vertices and E is a set of edges \n",
    "Each edge is a tuple (v,w) where w,v $\\in$ V. Each edge can also have a weight that can be attached to this tuple\n",
    "\n",
    "![Image](md_images/graph.png)"
   ]
  },
  {
   "cell_type": "markdown",
   "metadata": {},
   "source": [
    "### Adjacency matrix \n",
    "\n",
    "* When there are few edges matrices are not the best implementation for a graph\n",
    "![Image](md_images/adjacency-matrix.png)"
   ]
  },
  {
   "cell_type": "markdown",
   "metadata": {},
   "source": [
    "* An adjacency list maintains a list of the other connected vertices\n",
    "\n",
    "![Image](md_images/adjacency-list.png)"
   ]
  },
  {
   "cell_type": "markdown",
   "metadata": {},
   "source": [
    "# Implementation of a Graph as an Adjacency List\n",
    "\n",
    "\n",
    "Using dictionaries, it is easy to implement the adjacency list in Python. In our implementation of the Graph abstract data type we will create two classes: **Graph**, which holds the master list of vertices, and **Vertex**, which will represent each vertex in the graph.\n",
    "\n",
    "Each Vertex uses a dictionary to keep track of the vertices to which it is connected, and the weight of each edge. This dictionary is called **connectedTo**. The constructor simply initializes the id, which will typically be a string, and the **connectedTo** dictionary. The **addNeighbor** method is used add a connection from this vertex to another. The **getConnections** method returns all of the vertices in the adjacency list, as represented by the **connectedTo** instance variable. The **getWeight** method returns the weight of the edge from this vertex to the vertex passed as a parameter."
   ]
  },
  {
   "cell_type": "code",
   "execution_count": 3,
   "metadata": {},
   "outputs": [],
   "source": [
    "class Vertex:\n",
    "    def __init__(self,key):\n",
    "        self.id = key\n",
    "        self.connectedTo = {}\n",
    "\n",
    "    def addNeighbor(self,nbr,weight=0):\n",
    "        self.connectedTo[nbr] = weight\n",
    "\n",
    "    def __str__(self):\n",
    "        return str(self.id) + ' connectedTo: ' + str([x.id for x in self.connectedTo])\n",
    "\n",
    "    def getConnections(self):\n",
    "        return self.connectedTo.keys()\n",
    "\n",
    "    def getId(self):\n",
    "        return self.id\n",
    "\n",
    "    def getWeight(self,nbr):\n",
    "        return self.connectedTo[nbr]"
   ]
  },
  {
   "cell_type": "markdown",
   "metadata": {},
   "source": [
    "In order to implement a Graph as an Adjacency List what we need to do is define the methods our Adjacency List object will have:\n",
    "\n",
    "* **Graph()** creates a new, empty graph.\n",
    "* **addVertex(vert)** adds an instance of Vertex to the graph.\n",
    "* **addEdge(fromVert, toVert)** Adds a new, directed edge to the graph that connects two vertices.\n",
    "* **addEdge(fromVert, toVert, weight)** Adds a new, weighted, directed edge to the graph that connects two vertices.\n",
    "* **getVertex(vertKey)** finds the vertex in the graph named vertKey.\n",
    "* **getVertices()** returns the list of all vertices in the graph. \n",
    "* **in** returns True for a statement of the form vertex in graph, if the given vertex is in the graph, False otherwise."
   ]
  },
  {
   "cell_type": "code",
   "execution_count": 4,
   "metadata": {},
   "outputs": [
    {
     "name": "stdout",
     "output_type": "stream",
     "text": [
      "dict_values([1])\n",
      "dict_keys(['a'])\n"
     ]
    }
   ],
   "source": [
    "# advantage of using a dictionary \n",
    "\n",
    "# 1. This can be very useful for weighted graphs \n",
    "# 2. useful methods to get values and keys\n",
    "\n",
    "a = {'a' : 1}\n",
    "\n",
    "print(a.values())\n",
    "print(a.keys())"
   ]
  },
  {
   "cell_type": "code",
   "execution_count": 5,
   "metadata": {},
   "outputs": [],
   "source": [
    "# Adjacency List implementation \n",
    "class Graph:\n",
    "    def __init__(self):\n",
    "        self.vertList = {}\n",
    "        self.numVertices = 0\n",
    "\n",
    "    def addVertex(self,key):\n",
    "        self.numVertices = self.numVertices + 1\n",
    "        newVertex = Vertex(key)\n",
    "        self.vertList[key] = newVertex\n",
    "        return newVertex\n",
    "\n",
    "    def getVertex(self,n):\n",
    "        if n in self.vertList:\n",
    "            return self.vertList[n]\n",
    "        else:\n",
    "            return None\n",
    "\n",
    "    def __contains__(self,n):\n",
    "        return n in self.vertList\n",
    "\n",
    "    def addEdge(self,f,t,cost=0):\n",
    "        if f not in self.vertList:\n",
    "            nv = self.addVertex(f)\n",
    "        if t not in self.vertList:\n",
    "            nv = self.addVertex(t)\n",
    "        # add connecting edge from f to t\n",
    "        self.vertList[f].addNeighbor(self.vertList[t], cost)\n",
    "\n",
    "    def getVertices(self):\n",
    "        return self.vertList.keys()\n",
    "\n",
    "    def __iter__(self):\n",
    "        return iter(self.vertList.values())"
   ]
  },
  {
   "cell_type": "markdown",
   "metadata": {},
   "source": [
    "Let's see a simple example of how to use this:"
   ]
  },
  {
   "cell_type": "code",
   "execution_count": 6,
   "metadata": {},
   "outputs": [],
   "source": [
    "g = Graph()\n",
    "for i in range(6):\n",
    "    g.addVertex(i)"
   ]
  },
  {
   "cell_type": "code",
   "execution_count": 7,
   "metadata": {},
   "outputs": [
    {
     "data": {
      "text/plain": [
       "{0: <__main__.Vertex at 0x2323df1cb48>,\n",
       " 1: <__main__.Vertex at 0x2323df1cbc8>,\n",
       " 2: <__main__.Vertex at 0x2323df1cc88>,\n",
       " 3: <__main__.Vertex at 0x2323df1ccc8>,\n",
       " 4: <__main__.Vertex at 0x2323df1cd08>,\n",
       " 5: <__main__.Vertex at 0x2323df1cc48>}"
      ]
     },
     "execution_count": 7,
     "metadata": {},
     "output_type": "execute_result"
    }
   ],
   "source": [
    "g.vertList"
   ]
  },
  {
   "cell_type": "code",
   "execution_count": 8,
   "metadata": {},
   "outputs": [],
   "source": [
    "g.addEdge(0,1,2)\n",
    "g.addEdge(0,2,2)\n",
    "g.addEdge(1,0,3)\n",
    "g.addEdge(2,5,6)\n",
    "g.addEdge(4,1,6)"
   ]
  },
  {
   "cell_type": "code",
   "execution_count": 9,
   "metadata": {},
   "outputs": [
    {
     "data": {
      "text/plain": [
       "{<__main__.Vertex at 0x2323df1cbc8>: 2, <__main__.Vertex at 0x2323df1cc88>: 2}"
      ]
     },
     "execution_count": 9,
     "metadata": {},
     "output_type": "execute_result"
    }
   ],
   "source": [
    "# check the vertex 0 and what is it connected to \n",
    "g.vertList[0].connectedTo"
   ]
  },
  {
   "cell_type": "code",
   "execution_count": 10,
   "metadata": {},
   "outputs": [
    {
     "name": "stdout",
     "output_type": "stream",
     "text": [
      "0 connectedTo: [1, 2]\n",
      "dict_keys([<__main__.Vertex object at 0x000002323DF1CBC8>, <__main__.Vertex object at 0x000002323DF1CC88>])\n",
      "\n",
      "\n",
      "1 connectedTo: [0]\n",
      "dict_keys([<__main__.Vertex object at 0x000002323DF1CB48>])\n",
      "\n",
      "\n",
      "2 connectedTo: [5]\n",
      "dict_keys([<__main__.Vertex object at 0x000002323DF1CC48>])\n",
      "\n",
      "\n",
      "3 connectedTo: []\n",
      "dict_keys([])\n",
      "\n",
      "\n",
      "4 connectedTo: [1]\n",
      "dict_keys([<__main__.Vertex object at 0x000002323DF1CBC8>])\n",
      "\n",
      "\n",
      "5 connectedTo: []\n",
      "dict_keys([])\n",
      "\n",
      "\n"
     ]
    }
   ],
   "source": [
    "for vertex in g:\n",
    "    print(vertex)\n",
    "    print(vertex.getConnections())\n",
    "    print('\\n')"
   ]
  },
  {
   "cell_type": "markdown",
   "metadata": {},
   "source": [
    "# Implementation of Graph Overview\n",
    "\n",
    "In this lecture we will implement a simple graph by focusing on the Node class. Refer to this lecture for the solution to the Interview Problem\n",
    "\n",
    "___\n",
    "The graph will be directed and the edges can hold weights.\n",
    "\n",
    "We will have three classes, a State class, a Node class, and finally the Graph class.\n",
    "\n",
    "We're going to be taking advantage of two built-in tools here, [OrderDict](https://docs.python.org/2/library/collections.html#collections.OrderedDict) and [Enum](https://docs.python.org/3/library/enum.html)"
   ]
  },
  {
   "cell_type": "code",
   "execution_count": 11,
   "metadata": {},
   "outputs": [],
   "source": [
    "from enum import Enum  \n",
    "\n",
    "class State(Enum):\n",
    "    unvisited = 1 #White\n",
    "    visited = 2 #Black\n",
    "    visiting = 3 #Gray"
   ]
  },
  {
   "cell_type": "markdown",
   "metadata": {},
   "source": [
    "Now for the Node class we will take advantage of the OrderedDict object in case we want to keep track of the order keys are added to the dictionary."
   ]
  },
  {
   "cell_type": "code",
   "execution_count": 12,
   "metadata": {},
   "outputs": [],
   "source": [
    "from collections import OrderedDict\n",
    "\n",
    "class Node:\n",
    "\n",
    "    def __init__(self, num):\n",
    "        self.num = num\n",
    "        self.visit_state = State.unvisited\n",
    "        self.adjacent = OrderedDict()  # key = node, val = weight\n",
    "\n",
    "    def __str__(self):\n",
    "        return str(self.num)"
   ]
  },
  {
   "cell_type": "markdown",
   "metadata": {},
   "source": [
    "Then finally the Graph:"
   ]
  },
  {
   "cell_type": "code",
   "execution_count": 14,
   "metadata": {},
   "outputs": [],
   "source": [
    "class Graph:\n",
    "\n",
    "    def __init__(self):\n",
    "        self.nodes = OrderedDict()  # key = node id, val = node\n",
    "\n",
    "    def add_node(self, num):\n",
    "        node = Node(num)\n",
    "        self.nodes[num] = node\n",
    "        return node\n",
    "\n",
    "    def add_edge(self, source, dest, weight=0):\n",
    "        if source not in self.nodes:\n",
    "            self.add_node(source)\n",
    "        if dest not in self.nodes:\n",
    "            self.add_node(dest)\n",
    "        self.nodes[source].adjacent[self.nodes[dest]] = weight"
   ]
  },
  {
   "cell_type": "code",
   "execution_count": 15,
   "metadata": {},
   "outputs": [],
   "source": [
    "# this an example of a directed graph \n",
    "g = Graph()\n",
    "g.add_edge(0, 1, 5)"
   ]
  },
  {
   "cell_type": "code",
   "execution_count": 16,
   "metadata": {},
   "outputs": [
    {
     "data": {
      "text/plain": [
       "OrderedDict([(0, <__main__.Node at 0x2323df31a08>),\n",
       "             (1, <__main__.Node at 0x2323df31e08>)])"
      ]
     },
     "execution_count": 16,
     "metadata": {},
     "output_type": "execute_result"
    }
   ],
   "source": [
    "g.nodes"
   ]
  },
  {
   "cell_type": "markdown",
   "metadata": {},
   "source": [
    "# Word Ladder Example Code\n",
    "\n",
    "* Transform the word \"FOOL\" into the word \"SAGE\"\n",
    "* In a word ladder puzzle you can only change one letter at a time\n",
    "* At each step you must transform one word into another viable word\n",
    "* In a graph a path from one word to another is a solution as words seperated by one letter are seperated by one letter\n",
    "\n",
    "![Image](md_images/word-ladder.png)\n",
    "\n",
    "* Use of a bucket of words approach to connect words with one letter different\n",
    "* pop_ -> pops, pope ... \n",
    "\n",
    "Below is the Vertex and Graph class used for the Word Ladder example code:"
   ]
  },
  {
   "cell_type": "code",
   "execution_count": 17,
   "metadata": {},
   "outputs": [],
   "source": [
    "class Vertex:\n",
    "    def __init__(self,key):\n",
    "        self.id = key\n",
    "        self.connectedTo = {}\n",
    "\n",
    "    def addNeighbor(self,nbr,weight=0):\n",
    "        self.connectedTo[nbr] = weight\n",
    "\n",
    "    def __str__(self):\n",
    "        return str(self.id) + ' connectedTo: ' + str([x.id for x in self.connectedTo])\n",
    "\n",
    "    def getConnections(self):\n",
    "        return self.connectedTo.keys()\n",
    "\n",
    "    def getId(self):\n",
    "        return self.id\n",
    "\n",
    "    def getWeight(self,nbr):\n",
    "        return self.connectedTo[nbr]"
   ]
  },
  {
   "cell_type": "code",
   "execution_count": 18,
   "metadata": {},
   "outputs": [],
   "source": [
    "class Graph:\n",
    "    def __init__(self):\n",
    "        self.vertList = {}\n",
    "        self.numVertices = 0\n",
    "\n",
    "    def addVertex(self,key):\n",
    "        self.numVertices = self.numVertices + 1\n",
    "        newVertex = Vertex(key)\n",
    "        self.vertList[key] = newVertex\n",
    "        return newVertex\n",
    "\n",
    "    def getVertex(self,n):\n",
    "        if n in self.vertList:\n",
    "            return self.vertList[n]\n",
    "        else:\n",
    "            return None\n",
    "\n",
    "    def __contains__(self,n):\n",
    "        return n in self.vertList\n",
    "\n",
    "    def addEdge(self,f,t,cost=0):\n",
    "        if f not in self.vertList:\n",
    "            nv = self.addVertex(f)\n",
    "        if t not in self.vertList:\n",
    "            nv = self.addVertex(t)\n",
    "        self.vertList[f].addNeighbor(self.vertList[t], cost)\n",
    "\n",
    "    def getVertices(self):\n",
    "        return self.vertList.keys()\n",
    "\n",
    "    def __iter__(self):\n",
    "        return iter(self.vertList.values())"
   ]
  },
  {
   "cell_type": "markdown",
   "metadata": {},
   "source": [
    "Code for buildGraph function:"
   ]
  },
  {
   "cell_type": "code",
   "execution_count": 19,
   "metadata": {},
   "outputs": [],
   "source": [
    "def buildGraph(wordFile):\n",
    "    d = {}\n",
    "    g = Graph()\n",
    "    \n",
    "    wfile = open(wordFile,'r')\n",
    "    # create buckets of words that differ by one letter\n",
    "    for line in wfile:\n",
    "        word = line[:-1]\n",
    "        # wildcard approach for letters\n",
    "        # p_ll -> pull, poll, pill all in the same bucket\n",
    "        for i in range(len(word)):\n",
    "            bucket = word[:i] + '_' + word[i+1:]\n",
    "            print(bucket)\n",
    "            if bucket in d:\n",
    "                d[bucket].append(word)\n",
    "            else:\n",
    "                d[bucket] = [word]\n",
    "                \n",
    "        print('-'*10)\n",
    "    # add vertices and edges for words in the same bucket\n",
    "    for bucket in d.keys():\n",
    "        for word1 in d[bucket]:\n",
    "            for word2 in d[bucket]:\n",
    "                if word1 != word2:\n",
    "                    g.addEdge(word1,word2)\n",
    "    return g"
   ]
  },
  {
   "cell_type": "markdown",
   "metadata": {},
   "source": [
    "Please reference the video for full explanation!"
   ]
  },
  {
   "cell_type": "code",
   "execution_count": 20,
   "metadata": {},
   "outputs": [
    {
     "name": "stdout",
     "output_type": "stream",
     "text": [
      "--------------------------------------------------\n",
      "buckets of words\n",
      "--------------------------------------------------\n",
      "_ope\n",
      "p_pe\n",
      "po_e\n",
      "pop_\n",
      "----------\n",
      "_ope\n",
      "r_pe\n",
      "ro_e\n",
      "rop_\n",
      "----------\n",
      "_age\n",
      "s_ge\n",
      "sa_e\n",
      "sag_\n",
      "----------\n",
      "_est\n",
      "b_st\n",
      "be_t\n",
      "bes_\n",
      "----------\n",
      "_ipe\n",
      "r_pe\n",
      "ri_e\n",
      "rip_\n",
      "----------\n",
      "_ip\n",
      "p_p\n",
      "pi_\n",
      "----------\n",
      "\n",
      "\n",
      "--------------------------------------------------\n",
      "graph\n",
      "--------------------------------------------------\n",
      "pope connectedTo: ['rope']\n",
      "dict_keys([<__main__.Vertex object at 0x000002323DE95808>])\n",
      "\n",
      "\n",
      "rope connectedTo: ['pope', 'ripe']\n",
      "dict_keys([<__main__.Vertex object at 0x000002323DE958C8>, <__main__.Vertex object at 0x000002323DE95D08>])\n",
      "\n",
      "\n",
      "ripe connectedTo: ['rope']\n",
      "dict_keys([<__main__.Vertex object at 0x000002323DE95808>])\n",
      "\n",
      "\n"
     ]
    }
   ],
   "source": [
    "# build my graph \n",
    "print('-'*50)\n",
    "print('buckets of words')\n",
    "print('-'*50)\n",
    "g = buildGraph('words.txt')\n",
    "print('\\n')\n",
    "print('-'*50)\n",
    "print('graph')\n",
    "print('-'*50)\n",
    "\n",
    "for vertex in g:\n",
    "    print(vertex)\n",
    "    print(vertex.getConnections())\n",
    "    print('\\n')"
   ]
  },
  {
   "cell_type": "markdown",
   "metadata": {},
   "source": [
    "# Breadth First Search\n",
    "\n",
    "Makes use of a **queue** to do BFS\n",
    "\n",
    "\n",
    "An alternative algorithm called Breath-First search provides us with the ability to return the same results as DFS but with the added guarantee to return the **shortest-path** first. \n",
    "\n",
    "* Given a graph **G** and a starting vertex **s**, explores edges in the graph to find all the vertices in **G** for which there is a path from **s** \n",
    "* Finds all the vertices that are a distance **k** from **s** before it finds any vertices that are a distance **k+1**\n",
    "\n",
    "A good way to visualize what BFS does is that it **builds a tree structure one level at a time**!\n",
    "\n",
    "For the word ladder problem BFS would look like :\n",
    "\n",
    "![Image](md_images/bfs-wl.png)\n",
    "\n",
    "We'll assume our Graph is in the form:"
   ]
  },
  {
   "cell_type": "code",
   "execution_count": 21,
   "metadata": {},
   "outputs": [],
   "source": [
    "graph = {'A': set(['B', 'C']),\n",
    "         'B': set(['A', 'D', 'E']),\n",
    "         'C': set(['A', 'F']),\n",
    "         'D': set(['B']),\n",
    "         'E': set(['B', 'F']),\n",
    "         'F': set(['C', 'E'])}"
   ]
  },
  {
   "cell_type": "markdown",
   "metadata": {},
   "source": [
    "## Connected Component\n",
    "Similar to the iterative DFS implementation the only alteration required is to remove the next item from the beginning of the list structure instead of the stacks last."
   ]
  },
  {
   "cell_type": "code",
   "execution_count": 22,
   "metadata": {},
   "outputs": [
    {
     "name": "stdout",
     "output_type": "stream",
     "text": [
      "F\n",
      "C\n",
      "E\n",
      "A\n",
      "B\n",
      "D\n"
     ]
    },
    {
     "data": {
      "text/plain": [
       "{'A', 'B', 'C', 'D', 'E', 'F'}"
      ]
     },
     "execution_count": 22,
     "metadata": {},
     "output_type": "execute_result"
    }
   ],
   "source": [
    "def bfs(graph, start):\n",
    "    visited, queue = set(), [start]\n",
    "    while queue:\n",
    "        # use of a queue in contrast to dfs which uses a stack\n",
    "        vertex = queue.pop(0)\n",
    "        if vertex not in visited:\n",
    "            print(vertex)\n",
    "            visited.add(vertex)\n",
    "            queue.extend(graph[vertex] - visited)\n",
    "    return visited\n",
    "\n",
    "bfs(graph, 'F')"
   ]
  },
  {
   "cell_type": "markdown",
   "metadata": {},
   "source": [
    "## Paths\n",
    "This implementation can again be altered slightly to instead return all possible paths between two vertices, the first of which being one of the shortest such path."
   ]
  },
  {
   "cell_type": "code",
   "execution_count": 23,
   "metadata": {},
   "outputs": [
    {
     "data": {
      "text/plain": [
       "[['A', 'C', 'F'], ['A', 'B', 'E', 'F']]"
      ]
     },
     "execution_count": 23,
     "metadata": {},
     "output_type": "execute_result"
    }
   ],
   "source": [
    "def bfs_paths(graph, start, goal):\n",
    "    queue = [(start, [start])]\n",
    "    while queue:\n",
    "        (vertex, path) = queue.pop(0)\n",
    "        for next in graph[vertex] - set(path):\n",
    "            if next == goal:\n",
    "                yield path + [next]\n",
    "            else:\n",
    "                queue.append((next, path + [next]))\n",
    "\n",
    "list(bfs_paths(graph, 'A', 'F'))"
   ]
  },
  {
   "cell_type": "markdown",
   "metadata": {},
   "source": [
    "Knowing that the shortest path will be returned first from the BFS path generator method we can create a useful method which simply returns the shortest path found or ‘None’ if no path exists. As we are using a generator this in theory should provide similar performance results as just breaking out and returning the first matching path in the BFS implementation."
   ]
  },
  {
   "cell_type": "code",
   "execution_count": 24,
   "metadata": {},
   "outputs": [
    {
     "data": {
      "text/plain": [
       "['A', 'C', 'F']"
      ]
     },
     "execution_count": 24,
     "metadata": {},
     "output_type": "execute_result"
    }
   ],
   "source": [
    "def shortest_path(graph, start, goal):\n",
    "    try:\n",
    "        return next(bfs_paths(graph, start, goal))\n",
    "    except StopIteration:\n",
    "        return None\n",
    "\n",
    "shortest_path(graph, 'A', 'F')"
   ]
  },
  {
   "cell_type": "markdown",
   "metadata": {},
   "source": [
    "# Knight's Tour Problem\n",
    "\n",
    "[Knights Tour reference](https://bradfieldcs.com/algos/graphs/knights-tour/)\n",
    "\n",
    "[Geeks for Geeks reference](https://www.geeksforgeeks.org/the-knights-tour-problem-backtracking-1/)\n",
    "\n",
    "### Problem statement \n",
    "\n",
    "* Chess board with a single knight \n",
    "* Find a sequence of moves that allows the knight to visit every square on the board exactly once\n",
    "\n",
    "* Represent the legal moves of a knight on a chessboard as a graph \n",
    "* Use a graph algorithm to find a path of  **$length=rows \\times columns -1$** where every vertex on the graph is visited exactly once\n",
    "\n",
    "![image](md_images/knight-prob.png)"
   ]
  },
  {
   "cell_type": "markdown",
   "metadata": {},
   "source": [
    "### EXAMPLE OF HOW IT WORKS\n",
    "![image](md_images/knights-tour.gif)"
   ]
  },
  {
   "cell_type": "code",
   "execution_count": 30,
   "metadata": {},
   "outputs": [],
   "source": [
    "class Vertex:\n",
    "    def __init__(self, key):\n",
    "        self.id = key\n",
    "        self.connectedTo = {}\n",
    "#         self.__color = 'white'\n",
    "        self.setColor('white')\n",
    "\n",
    "    def addNeighbor(self, nbr, weight=0):\n",
    "        self.connectedTo[nbr] = weight\n",
    "\n",
    "    def setColor(self, color):\n",
    "        self.__color = color\n",
    "\n",
    "    def getColor(self):\n",
    "        return self.__color\n",
    "\n",
    "    def __str__(self):\n",
    "        return str(self.id) + ' connectedTo: ' + str([x.id for x in self.connectedTo])\n",
    "\n",
    "    def getConnections(self):\n",
    "        return self.connectedTo.keys()\n",
    "\n",
    "    def getId(self):\n",
    "        return self.id\n",
    "\n",
    "    def getWeight(self, nbr):\n",
    "        return self.connectedTo[nbr]\n",
    "\n",
    "\n",
    "class Graph:\n",
    "    def __init__(self):\n",
    "        self.vertList = {}\n",
    "        self.numVertices = 0\n",
    "\n",
    "    def addVertex(self, key):\n",
    "        self.numVertices = self.numVertices + 1\n",
    "        newVertex = Vertex(key)\n",
    "        self.vertList[key] = newVertex\n",
    "        return newVertex\n",
    "\n",
    "    def getVertex(self, n):\n",
    "        if n in self.vertList:\n",
    "            return self.vertList[n]\n",
    "        else:\n",
    "            return None\n",
    "\n",
    "    def __contains__(self, n):\n",
    "        return n in self.vertList\n",
    "\n",
    "    def addEdge(self, f, t, cost=0):\n",
    "        if f not in self.vertList:\n",
    "            nv = self.addVertex(f)\n",
    "        if t not in self.vertList:\n",
    "            nv = self.addVertex(t)\n",
    "        self.vertList[f].addNeighbor(self.vertList[t], cost)\n",
    "\n",
    "    def getVertices(self):\n",
    "        return self.vertList.keys()\n",
    "\n",
    "    def __iter__(self):\n",
    "        return iter(self.vertList.values())"
   ]
  },
  {
   "cell_type": "code",
   "execution_count": 31,
   "metadata": {},
   "outputs": [],
   "source": [
    "def knightGraph(bdSize):\n",
    "    ktGraph = Graph()\n",
    "    for row in range(bdSize):\n",
    "        for col in range(bdSize):\n",
    "            nodeId = posToNodeId(row,col,bdSize)\n",
    "            newPositions = genLegalMoves(row,col,bdSize)\n",
    "            for e in newPositions:\n",
    "                nid = posToNodeId(e[0],e[1],bdSize)\n",
    "                ktGraph.addEdge(nodeId,nid)\n",
    "    return ktGraph\n",
    "\n",
    "def posToNodeId(row, column, board_size):\n",
    "    return (row * board_size) + column\n",
    "\n",
    "def nodeIdToPos(nodeId, board_size):\n",
    "    return (nodeId//board_size, nodeId%board_size)\n"
   ]
  },
  {
   "cell_type": "code",
   "execution_count": 32,
   "metadata": {},
   "outputs": [],
   "source": [
    "def genLegalMoves(x,y,bdSize):\n",
    "    newMoves = []\n",
    "    moveOffsets = [(-1,-2),(-1,2),(-2,-1),(-2,1),\n",
    "                   ( 1,-2),( 1,2),( 2,-1),( 2,1)]\n",
    "    for i in moveOffsets:\n",
    "        newX = x + i[0]\n",
    "        newY = y + i[1]\n",
    "        if legalCoord(newX,bdSize) and \\\n",
    "                        legalCoord(newY,bdSize):\n",
    "            newMoves.append((newX,newY))\n",
    "    return newMoves\n",
    "\n",
    "def legalCoord(x,bdSize):\n",
    "    if x >= 0 and x < bdSize:\n",
    "        return True\n",
    "    else:\n",
    "        return False"
   ]
  },
  {
   "cell_type": "code",
   "execution_count": 33,
   "metadata": {},
   "outputs": [],
   "source": [
    "def knightTour(n,path,u,limit):\n",
    "    u.setColor('gray')\n",
    "    path.append(u)\n",
    "    if n < limit:\n",
    "        nbrList = list(u.getConnections())\n",
    "        i = 0\n",
    "        done = False\n",
    "        while i < len(nbrList) and not done:\n",
    "            if nbrList[i].getColor() == 'white':\n",
    "                done = knightTour(n+1, path, nbrList[i], limit)\n",
    "            i = i + 1\n",
    "        if not done:  # prepare to backtrack\n",
    "            path.pop()\n",
    "            u.setColor('white')\n",
    "    else:\n",
    "        done = True\n",
    "    return done"
   ]
  },
  {
   "cell_type": "code",
   "execution_count": 35,
   "metadata": {},
   "outputs": [
    {
     "name": "stdout",
     "output_type": "stream",
     "text": [
      "MOVE SEQUENCE\n",
      "------------------------------------------------------------\n",
      "node id : 0          position : (0, 0)              \n",
      "node id : 7          position : (1, 2)              \n",
      "node id : 4          position : (0, 4)              \n",
      "node id : 13         position : (2, 3)              \n",
      "node id : 6          position : (1, 1)              \n",
      "node id : 3          position : (0, 3)              \n",
      "node id : 14         position : (2, 4)              \n",
      "node id : 23         position : (4, 3)              \n",
      "node id : 16         position : (3, 1)              \n",
      "node id : 5          position : (1, 0)              \n",
      "node id : 2          position : (0, 2)              \n",
      "node id : 9          position : (1, 4)              \n",
      "node id : 12         position : (2, 2)              \n",
      "node id : 15         position : (3, 0)              \n",
      "node id : 22         position : (4, 2)              \n",
      "node id : 19         position : (3, 4)              \n",
      "node id : 8          position : (1, 3)              \n",
      "node id : 1          position : (0, 1)              \n",
      "node id : 10         position : (2, 0)              \n",
      "node id : 21         position : (4, 1)              \n",
      "node id : 18         position : (3, 3)              \n",
      "node id : 11         position : (2, 1)              \n",
      "node id : 20         position : (4, 0)              \n",
      "node id : 17         position : (3, 2)              \n",
      "node id : 24         position : (4, 4)              \n"
     ]
    }
   ],
   "source": [
    "dimensions = 5\n",
    "\n",
    "ktGraph = knightGraph(dimensions)\n",
    "\n",
    "limit = dimensions**2\n",
    "start_point = ktGraph.vertList[0]\n",
    "path = []\n",
    "depth = 1\n",
    "\n",
    "knights_tour = knightTour(depth, path, start_point, limit)\n",
    "\n",
    "print('MOVE SEQUENCE')\n",
    "print('-'*60)\n",
    "for node in path:\n",
    "    print(\n",
    "        'node id : {:<10d} position : {:<20s}'.format(node.getId(), str(nodeIdToPos(node.id, dimensions))))\n"
   ]
  },
  {
   "cell_type": "markdown",
   "metadata": {},
   "source": [
    "# Depth-First Search\n",
    "\n",
    "Uses a **stack** for backtracking.\n",
    "This algorithm we will be discussing is Depth-First search which as the name hints at, explores possible vertices (from a supplied root) down each branch before backtracking. This property allows the algorithm to be implemented succinctly in both iterative and recursive forms. Below is a listing of the actions performed upon each visit to a node.\n",
    "\n",
    "**Explores one branch of the tree as deeply as possible**\n",
    "\n",
    "* Mark the current vertex as being visited.\n",
    "* Explore each adjacent vertex that is not included in the visited set.\n",
    "\n",
    "We will assume a simplified version of a graph in the following form:"
   ]
  },
  {
   "cell_type": "code",
   "execution_count": 36,
   "metadata": {},
   "outputs": [],
   "source": [
    "graph = {'A': set(['B', 'C']),\n",
    "         'B': set(['A', 'D', 'E']),\n",
    "         'C': set(['A', 'F']),\n",
    "         'D': set(['B']),\n",
    "         'E': set(['B', 'F']),\n",
    "         'F': set(['C', 'E'])}"
   ]
  },
  {
   "cell_type": "code",
   "execution_count": 37,
   "metadata": {},
   "outputs": [
    {
     "data": {
      "text/plain": [
       "{'C'}"
      ]
     },
     "execution_count": 37,
     "metadata": {},
     "output_type": "execute_result"
    }
   ],
   "source": [
    "set(['B','C']) - set('B')"
   ]
  },
  {
   "cell_type": "markdown",
   "metadata": {},
   "source": [
    "## Connected Component\n",
    "\n",
    "The implementation below uses the stack data-structure to build-up and return a set of vertices that are accessible within the subjects connected component. Using Python’s overloading of the subtraction operator to remove items from a set, we are able to add only the unvisited adjacent vertices."
   ]
  },
  {
   "cell_type": "code",
   "execution_count": 38,
   "metadata": {},
   "outputs": [
    {
     "name": "stdout",
     "output_type": "stream",
     "text": [
      "A\n",
      "B\n",
      "D\n",
      "E\n",
      "F\n",
      "C\n",
      "C\n"
     ]
    },
    {
     "data": {
      "text/plain": [
       "{'A', 'B', 'C', 'D', 'E', 'F'}"
      ]
     },
     "execution_count": 38,
     "metadata": {},
     "output_type": "execute_result"
    }
   ],
   "source": [
    "def dfs(graph, start):\n",
    "    visited, stack = set(), [start]\n",
    "    while stack:\n",
    "        vertex = stack.pop()\n",
    "        print(vertex)\n",
    "        if vertex not in visited:\n",
    "            visited.add(vertex)\n",
    "            # add the unvisited adjacent vertices\n",
    "            stack.extend(graph[vertex] - visited)\n",
    "    return visited\n",
    "\n",
    "dfs(graph, 'A') "
   ]
  },
  {
   "cell_type": "markdown",
   "metadata": {},
   "source": [
    "The second implementation provides the same functionality as the first, however, this time we are using the more succinct recursive form. Due to a common Python gotcha with default parameter values being created only once, we are required to create a new visited set on each user invocation. Another Python language detail is that function variables are passed by reference, resulting in the visited mutable set not having to reassigned upon each recursive call."
   ]
  },
  {
   "cell_type": "code",
   "execution_count": 39,
   "metadata": {},
   "outputs": [
    {
     "name": "stdout",
     "output_type": "stream",
     "text": [
      "A\n",
      "C\n",
      "F\n",
      "E\n",
      "B\n",
      "D\n",
      "B\n"
     ]
    },
    {
     "data": {
      "text/plain": [
       "{'A', 'B', 'C', 'D', 'E', 'F'}"
      ]
     },
     "execution_count": 39,
     "metadata": {},
     "output_type": "execute_result"
    }
   ],
   "source": [
    "def dfs(graph, start, visited=None):\n",
    "    print(start)\n",
    "    if visited is None:\n",
    "        visited = set()\n",
    "    visited.add(start)\n",
    "    for nxt in graph[start] - visited:\n",
    "        dfs(graph, nxt, visited)\n",
    "    return visited\n",
    "\n",
    "dfs(graph, 'A') "
   ]
  },
  {
   "cell_type": "markdown",
   "metadata": {},
   "source": [
    "## Paths\n",
    "We are able to tweak both of the previous implementations to return all possible paths between a start and goal vertex. The implementation below uses the stack data-structure again to iteratively solve the problem, yielding each possible path when we locate the goal. Using a generator allows the user to only compute the desired amount of alternative paths."
   ]
  },
  {
   "cell_type": "code",
   "execution_count": 40,
   "metadata": {},
   "outputs": [
    {
     "data": {
      "text/plain": [
       "[['A', 'B', 'E', 'F'], ['A', 'C', 'F']]"
      ]
     },
     "execution_count": 40,
     "metadata": {},
     "output_type": "execute_result"
    }
   ],
   "source": [
    "def dfs_paths(graph, start, goal):\n",
    "    stack = [(start, [start])]\n",
    "    while stack:\n",
    "        (vertex, path) = stack.pop()\n",
    "        for nxt in graph[vertex] - set(path):\n",
    "            if nxt == goal:\n",
    "                yield path + [nxt]\n",
    "            else:\n",
    "                stack.append((nxt, path + [nxt]))\n",
    "\n",
    "list(dfs_paths(graph, 'A', 'F'))"
   ]
  },
  {
   "cell_type": "markdown",
   "metadata": {},
   "source": [
    "### Resources\n",
    "* [Depth-and Breadth-First Search](http://jeremykun.com/2013/01/22/depth-and-breadth-first-search/)\n",
    "* [Connected component](https://en.wikipedia.org/wiki/Connected_component_(graph_theory))\n",
    "* [Adjacency matrix](https://en.wikipedia.org/wiki/Adjacency_matrix)\n",
    "* [Adjacency list](https://en.wikipedia.org/wiki/Adjacency_list)\n",
    "* [Python Gotcha: Default arguments and mutable data structures](https://developmentality.wordpress.com/2010/08/23/python-gotcha-default-arguments/)\n",
    "* [Generators](https://wiki.python.org/moin/Generators)"
   ]
  }
 ],
 "metadata": {
  "kernelspec": {
   "display_name": "Python 3",
   "language": "python",
   "name": "python3"
  },
  "language_info": {
   "codemirror_mode": {
    "name": "ipython",
    "version": 3
   },
   "file_extension": ".py",
   "mimetype": "text/x-python",
   "name": "python",
   "nbconvert_exporter": "python",
   "pygments_lexer": "ipython3",
   "version": "3.7.7"
  }
 },
 "nbformat": 4,
 "nbformat_minor": 4
}
